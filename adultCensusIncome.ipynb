{
 "cells": [
  {
   "cell_type": "markdown",
   "metadata": {},
   "source": [
    "Load python modules. "
   ]
  },
  {
   "cell_type": "code",
   "execution_count": null,
   "metadata": {
    "collapsed": false
   },
   "outputs": [],
   "source": [
    "import numpy as np\n",
    "import pandas as pd # Data frames\n",
    "import sklearn as skl\n",
    "import matplotlib.pyplot as plt # Visuals\n",
    "%matplotlib inline\n",
    "from urllib.request import urlopen # Get data from UCI Machine Learning Repository\n",
    "from sklearn.linear_model import LogisticRegression #logistic regression functions\n",
    "from sklearn.feature_selection import RFE\n",
    "from sklearn.cross_validation import train_test_split #split into train and test sets\n",
    "from sklearn import metrics\n",
    "from sklearn.metrics import roc_curve, auc #visualizations \n",
    "from sklearn.multiclass import OneVsRestClassifier\n",
    "from sklearn import svm, datasets\n"
   ]
  },
  {
   "cell_type": "markdown",
   "metadata": {},
   "source": [
    "Import the dataframe. \n",
    "\n",
    "The dataset is from the UCI Machine Learning repository. Out of the fourteen variables, the only variables being used are age, workclass, fnlwgt, education, marital status, relationship, race, sex, capital gain, capital loss, native country, hours worked per week, and income.\n",
    "\n",
    "We classified income as 0 if it is under $50,000 per year and 1 if it is above, and sex as 0 if male and 1 if female. "
   ]
  },
  {
   "cell_type": "code",
   "execution_count": 118,
   "metadata": {
    "collapsed": false
   },
   "outputs": [
    {
     "name": "stderr",
     "output_type": "stream",
     "text": [
      "/Users/samanthalee/anaconda/lib/python3.5/site-packages/ipykernel/__main__.py:5: ParserWarning: Falling back to the 'python' engine because the 'c' engine does not support regex separators (separators > 1 char and different from '\\s+' are interpreted as regex); you can avoid this warning by specifying engine='python'.\n"
     ]
    }
   ],
   "source": [
    "data_URL = \"https://archive.ics.uci.edu/ml/machine-learning-databases/adult/adult.data\"\n",
    "\n",
    "columnNames = ['age', 'workclass', 'fnlwgt', 'education', 'educationNum', 'marital', 'occupation', 'relationship', 'race', 'sex', 'capitalGain', 'capitalLoss', 'hoursPerWeek', 'nativeCountry', 'income']\n",
    "columnsToUse = ['age', 'workclass', 'fnlwgt', 'education', 'educationNum', 'marital', 'relationship', 'race', 'sex', 'capitalGain', 'capitalLoss', 'nativeCountry', 'hoursPerWeek', 'income']\n",
    "\n",
    "census = pd.read_csv('https://archive.ics.uci.edu/ml/machine-learning-databases/adult/adult.data', header=None, names=columnNames, sep=',\\s+')\n",
    "\n",
    "census = census.loc[:, columnsToUse]\n",
    "\n",
    "s = {'Male':0, 'Female':1}\n",
    "inc = {'<=50K':0, '>50K':1}\n",
    "census.replace({'income':inc, 'sex':s}, inplace=True)\n",
    "\n",
    "\n",
    "census = pd.read_csv(urlopen(data_URL), names = names)\n",
    "\n"
   ]
  },
  {
   "cell_type": "markdown",
   "metadata": {},
   "source": [
    "Since the attributes are primarily categorical, we need to find a way to classify it as numerical. So using the pandas function get_dummies, we created dummy columns for the variables. \n",
    "\n",
    "Having two columns for income is redundant, so we chose to delete the attribute for income being greater than $50,000.\n",
    "\n",
    "Income is the variable we are predicting on, so to create our training and test sets, we removed them. "
   ]
  },
  {
   "cell_type": "code",
   "execution_count": 119,
   "metadata": {
    "collapsed": false,
    "scrolled": true
   },
   "outputs": [],
   "source": [
    "\n",
    "censusDummies = pd.get_dummies(census)\n",
    "censusDummies.head()\n",
    "\n",
    "del censusDummies[\"income_ >50K\"]\n"
   ]
  },
  {
   "cell_type": "code",
   "execution_count": 120,
   "metadata": {
    "collapsed": false
   },
   "outputs": [
    {
     "name": "stdout",
     "output_type": "stream",
     "text": [
      "Index(['age', 'fnlwgt', 'educationNum', 'capitalGain', 'capitalLoss',\n",
      "       'hoursPerWeek', 'workclass_ ?', 'workclass_ Federal-gov',\n",
      "       'workclass_ Local-gov', 'workclass_ Never-worked',\n",
      "       ...\n",
      "       'nativeCountry_ Portugal', 'nativeCountry_ Puerto-Rico',\n",
      "       'nativeCountry_ Scotland', 'nativeCountry_ South',\n",
      "       'nativeCountry_ Taiwan', 'nativeCountry_ Thailand',\n",
      "       'nativeCountry_ Trinadad&Tobago', 'nativeCountry_ United-States',\n",
      "       'nativeCountry_ Vietnam', 'nativeCountry_ Yugoslavia'],\n",
      "      dtype='object', length=108)\n"
     ]
    }
   ],
   "source": [
    "features = censusDummies.columns[:-1]\n",
    "print(features)\n"
   ]
  },
  {
   "cell_type": "markdown",
   "metadata": {},
   "source": [
    "Time to start the logistic regression analysis! \n",
    "\n",
    "We begin by splitting the data into training and test sets using an 80/20 ratio. "
   ]
  },
  {
   "cell_type": "code",
   "execution_count": 122,
   "metadata": {
    "collapsed": false
   },
   "outputs": [
    {
     "name": "stdout",
     "output_type": "stream",
     "text": [
      "Train has 26048 entries\n",
      "Test has 6513 entries\n"
     ]
    }
   ],
   "source": [
    "logreg = LogisticRegression()\n",
    "X = censusDummies\n",
    "y = censusDummies.loc[:,'income_ <=50K']\n",
    "X_train, X_test, y_train, y_test = train_test_split(X, y, random_state=13, test_size=0.2)\n",
    "print(\"Train has \" + str(X_train.shape[0]) + \" entries\")\n",
    "print(\"Test has \" + str(X_test.shape[0]) + \" entries\")"
   ]
  },
  {
   "cell_type": "markdown",
   "metadata": {},
   "source": [
    "We generate a frequency table using to measure the relationship of the variables in the training and test sets. \n",
    "\n",
    "Using a logistic regression analysis will provide about 80% accuracy with the attributes we are including for the training set. For the test set, the accuracy is also about 80%. "
   ]
  },
  {
   "cell_type": "code",
   "execution_count": 130,
   "metadata": {
    "collapsed": false
   },
   "outputs": [
    {
     "name": "stdout",
     "output_type": "stream",
     "text": [
      "Actual Values      0.0    1.0\n",
      "Predicted Values             \n",
      "0.0               1648   4639\n",
      "1.0                695  19066\n",
      "LogReg provides 0.795224201474  accuracy\n"
     ]
    }
   ],
   "source": [
    "#train set\n",
    "logreg.fit(X_train, y_train)\n",
    "y_pred = logreg.predict(X_train)\n",
    "print(pd.crosstab(y_train, y_pred, rownames=['Predicted Values'], colnames=['Actual Values']))\n",
    "print('LogReg provides %s ' % metrics.accuracy_score(y_train, y_pred) + \" accuracy\")"
   ]
  },
  {
   "cell_type": "code",
   "execution_count": 131,
   "metadata": {
    "collapsed": false
   },
   "outputs": [
    {
     "name": "stdout",
     "output_type": "stream",
     "text": [
      "Actual Values     0.0   1.0\n",
      "Predicted Values           \n",
      "0.0               426  1128\n",
      "1.0               165  4794\n",
      "LogReg provides 0.801473975127  accuracy\n"
     ]
    }
   ],
   "source": [
    "#test set\n",
    "y_pred_test = logreg.predict(X_test)\n",
    "print(pd.crosstab(y_test, y_pred_test, rownames=['Predicted Values'], colnames=['Actual Values']))\n",
    "print('LogReg provides %s ' % metrics.accuracy_score(y_test, y_pred_test) + \" accuracy\")"
   ]
  },
  {
   "cell_type": "markdown",
   "metadata": {},
   "source": [
    "Here are some sexy visualizations. \n",
    "\n",
    "This is an ROC (receiver operating characteristic) metric to evaluate classifier output quality. We want to plot the true positive rate on the Y axis and the false positive rate on the X axis. We predicted one class against the other and computed the ROC area for each class. "
   ]
  },
  {
   "cell_type": "code",
   "execution_count": null,
   "metadata": {
    "collapsed": false
   },
   "outputs": [],
   "source": [
    "# Learn to predict each class against the other\n",
    "classifier = OneVsRestClassifier(svm.SVC(kernel='linear', probability=True))\n",
    "y_score = classifier.fit(X_train, y_train).decision_function(X_test)\n",
    "\n",
    "# Compute ROC curve and ROC area for each class\n",
    "fpr = dict()\n",
    "tpr = dict()\n",
    "roc_auc = dict()\n",
    "for i in range(n_classes):\n",
    "    fpr[i], tpr[i], _ = roc_curve(y_pred_test[:, i], y_score[:, i])\n",
    "    roc_auc[i] = auc(fpr[i], tpr[i])\n",
    "\n",
    "# Compute micro-average ROC curve and ROC area\n",
    "fpr[\"micro\"], tpr[\"micro\"], _ = roc_curve(y_test.ravel(), y_score.ravel())\n",
    "roc_auc[\"micro\"] = auc(fpr[\"micro\"], tpr[\"micro\"])"
   ]
  },
  {
   "cell_type": "code",
   "execution_count": null,
   "metadata": {
    "collapsed": true
   },
   "outputs": [],
   "source": [
    "# First aggregate all false positive rates\n",
    "all_fpr = np.unique(np.concatenate([fpr[i] for i in range(n_classes)]))\n",
    "\n",
    "# Then interpolate all ROC curves at this points\n",
    "mean_tpr = np.zeros_like(all_fpr)\n",
    "for i in range(n_classes):\n",
    "    mean_tpr += interp(all_fpr, fpr[i], tpr[i])\n",
    "\n",
    "# Finally average it and compute AUC\n",
    "mean_tpr /= n_classes\n",
    "\n",
    "fpr[\"macro\"] = all_fpr\n",
    "tpr[\"macro\"] = mean_tpr\n",
    "roc_auc[\"macro\"] = auc(fpr[\"macro\"], tpr[\"macro\"])\n",
    "\n",
    "# Plot all ROC curves\n",
    "plt.figure()\n",
    "plt.plot(fpr[\"micro\"], tpr[\"micro\"],\n",
    "         label='micro-average ROC curve (area = {0:0.2f})'\n",
    "              ''.format(roc_auc[\"micro\"]),\n",
    "         color='deeppink', linestyle=':', linewidth=4)\n",
    "\n",
    "plt.plot(fpr[\"macro\"], tpr[\"macro\"],\n",
    "         label='macro-average ROC curve (area = {0:0.2f})'\n",
    "               ''.format(roc_auc[\"macro\"]),\n",
    "         color='navy', linestyle=':', linewidth=4)\n",
    "\n",
    "colors = cycle(['aqua', 'darkorange', 'cornflowerblue'])\n",
    "for i, color in zip(range(n_classes), colors):\n",
    "    plt.plot(fpr[i], tpr[i], color=color, lw=lw,\n",
    "             label='ROC curve of class {0} (area = {1:0.2f})'\n",
    "             ''.format(i, roc_auc[i]))\n",
    "\n",
    "plt.plot([0, 1], [0, 1], 'k--', lw=lw)\n",
    "plt.xlim([0.0, 1.0])\n",
    "plt.ylim([0.0, 1.05])\n",
    "plt.xlabel('False Positive Rate')\n",
    "plt.ylabel('True Positive Rate')\n",
    "plt.title('Some extension of Receiver operating characteristic to multi-class')\n",
    "plt.legend(loc=\"lower right\")\n",
    "plt.show()"
   ]
  },
  {
   "cell_type": "code",
   "execution_count": null,
   "metadata": {
    "collapsed": true
   },
   "outputs": [],
   "source": [
    "#fpr, tpr, _ = roc_curve(y_pred_test, y_score)"
   ]
  }
 ],
 "metadata": {
  "anaconda-cloud": {},
  "kernelspec": {
   "display_name": "Python [conda root]",
   "language": "python",
   "name": "conda-root-py"
  },
  "language_info": {
   "codemirror_mode": {
    "name": "ipython",
    "version": 3
   },
   "file_extension": ".py",
   "mimetype": "text/x-python",
   "name": "python",
   "nbconvert_exporter": "python",
   "pygments_lexer": "ipython3",
   "version": "3.5.2"
  }
 },
 "nbformat": 4,
 "nbformat_minor": 1
}
